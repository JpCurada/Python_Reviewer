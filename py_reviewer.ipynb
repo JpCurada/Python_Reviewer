{
 "cells": [
  {
   "cell_type": "markdown",
   "id": "75917500",
   "metadata": {},
   "source": [
    "Create\n",
    "Read\n",
    "Update\n",
    "Delete"
   ]
  },
  {
   "cell_type": "markdown",
   "id": "cfc121a6",
   "metadata": {},
   "source": [
    "# 1.Variables\n",
    "### Variable as a placeholder\n",
    "They're super useful as they allow you to define a value then \n",
    "refer to it multiple times. You can also change the value of \n",
    "variable as needed."
   ]
  },
  {
   "cell_type": "code",
   "execution_count": null,
   "id": "d270aac3",
   "metadata": {},
   "outputs": [],
   "source": [
    "space_name = 123456.13"
   ]
  },
  {
   "cell_type": "code",
   "execution_count": null,
   "id": "b28f8d37",
   "metadata": {},
   "outputs": [],
   "source": [
    "print(space_name)"
   ]
  },
  {
   "cell_type": "markdown",
   "id": "1143828c",
   "metadata": {},
   "source": [
    "#### space_name is a variable"
   ]
  },
  {
   "cell_type": "markdown",
   "id": "4218de7b",
   "metadata": {},
   "source": [
    "# 2.Data types\n",
    "1. String - words or elements that are enclosed in \"\". (ex. \"This is a string\")\n",
    "2. Integer - a whole number that doesn't have a fraction or decimals. (ex. 102)\n",
    "3. Float - decimal numbers (ex. 3.1416)\n",
    "4. Boolean - True or False\n",
    "5. List - A series of values wrapped in a squared brackets[]. They are also known as arrays.(ex.[John, Paul, Sherwin])\n",
    "6. Tuples - Denoted by a series of values wrapped in parenthesis(). Tuples is immutable, its elements can't be changed.(ex.(1,2,3,4,4,5,6,2,2,2,3,3))\n",
    "7. Set - Denoted by a series of values wrapped in curly brackets{}. It is also immutable, but a set does not contain duplicate values.(ex.{1,2,3,4,5,6,7,8})\n",
    "8. Dictionaries - has keys and values (ex.{\n",
    "'Name':'John Paul'\n",
    "}"
   ]
  },
  {
   "cell_type": "code",
   "execution_count": null,
   "id": "2b286c27",
   "metadata": {},
   "outputs": [],
   "source": [
    "type(space_name) # Type function defines the data type of a variable. "
   ]
  },
  {
   "cell_type": "code",
   "execution_count": null,
   "id": "0f8e41a9",
   "metadata": {},
   "outputs": [],
   "source": [
    "# Declaring a variable as a STRING\n",
    "string_variable = 'Pluto'\n",
    "print(string_variable)\n",
    "print(type(string_variable))"
   ]
  },
  {
   "cell_type": "code",
   "execution_count": null,
   "id": "22abf4d8",
   "metadata": {},
   "outputs": [],
   "source": [
    "# Declaring a variable as a INTEGER\n",
    "int_variable = '143'\n",
    "print(int_variable)\n",
    "print(type(int_variable))"
   ]
  },
  {
   "cell_type": "code",
   "execution_count": null,
   "id": "710d15a5",
   "metadata": {},
   "outputs": [],
   "source": [
    "# Declaring a variable as a BOOLEAN\n",
    "bool_variable = True\n",
    "print(bool_variable)\n",
    "print(type(bool_variable))"
   ]
  },
  {
   "cell_type": "code",
   "execution_count": null,
   "id": "bc9c412c",
   "metadata": {},
   "outputs": [],
   "source": [
    "# Declaring a variable as a float\n",
    "float_variable = 3.1416\n",
    "print(float_variable)\n",
    "print(type(float_variable))"
   ]
  },
  {
   "cell_type": "code",
   "execution_count": null,
   "id": "3e3e341b",
   "metadata": {},
   "outputs": [],
   "source": [
    "# Declaring a variable as a list\n",
    "cities = ['New York', 'California', 'Manila', 'Singapore', 'Tokyo']"
   ]
  },
  {
   "cell_type": "code",
   "execution_count": null,
   "id": "87e0c690",
   "metadata": {},
   "outputs": [],
   "source": [
    "# Counting the number of elements inside a list\n",
    "print(len(cities))"
   ]
  },
  {
   "cell_type": "code",
   "execution_count": null,
   "id": "8bb88663",
   "metadata": {},
   "outputs": [],
   "source": [
    "# Printing a specific element of a list (Remember : Index counting starts at 0)\n",
    "print(cities[1])\n",
    "print(cities[0])\n",
    "print(cities[2])"
   ]
  },
  {
   "cell_type": "code",
   "execution_count": null,
   "id": "159425f1",
   "metadata": {},
   "outputs": [],
   "source": [
    "# Getting the index of an element within the list\n",
    "city_index = cities.index('Manila')\n",
    "print(city_index)"
   ]
  },
  {
   "cell_type": "code",
   "execution_count": null,
   "id": "5893c1cc",
   "metadata": {},
   "outputs": [],
   "source": [
    "# Changing an element inside a list\n",
    "subjects = ['Electronics', 'Mathematics', 'English', 'Science']\n",
    "subjects[2] = 'Language'\n",
    "print(subjects)"
   ]
  },
  {
   "cell_type": "markdown",
   "id": "a75355cb",
   "metadata": {},
   "source": [
    "#### Experiment"
   ]
  },
  {
   "cell_type": "code",
   "execution_count": null,
   "id": "fbb71091",
   "metadata": {},
   "outputs": [],
   "source": [
    "students_name = ['John Paul', 'Faith', 'Joy', 'Jeson', 'Gabriel', 'Dayron', 'Roshca', 'Lizette', 'Adrian', 'Istine']\n",
    "\n",
    "def find_index_name(list_names, student_name):\n",
    "    for name in list_names:\n",
    "        if student_name == name:\n",
    "            return list_names.index(student_name)\n",
    "\n",
    "def change_name(list_names, index, new_name):\n",
    "    list_names[index] = new_name\n",
    "    \n",
    "def count_students(list_names):\n",
    "    number_of_students = len(list_names)\n",
    "    return number_of_students\n",
    "    \n",
    "    \n",
    "username = input('Enter your current username: ').title()\n",
    "index = find_index_name(students_name, username)\n",
    "print(f'Index : {index}')\n",
    "new_name = input('Enter your desired new username: ').title()\n",
    "change_name(students_name, index, new_name)\n",
    "print(students_name)\n",
    "print(f'Total students : {count_students(students_name)} students')"
   ]
  },
  {
   "cell_type": "code",
   "execution_count": null,
   "id": "b6c4493b",
   "metadata": {},
   "outputs": [],
   "source": [
    "tuple_variable = (1,2,3,4,5,6,7,8)\n",
    "print(tuple_variable)\n",
    "print(type(tuple_variable))"
   ]
  },
  {
   "cell_type": "code",
   "execution_count": null,
   "id": "794958b8",
   "metadata": {},
   "outputs": [],
   "source": [
    "# SET variable\n",
    "set_variable = {1,2,3,4,5,6,7,8,8,8}\n",
    "print(type(set_variable))\n",
    "print(set_variable)\n",
    "\n",
    "\n",
    "list = list(set_variable)\n",
    "print(list)"
   ]
  },
  {
   "cell_type": "code",
   "execution_count": null,
   "id": "cc8e351d",
   "metadata": {},
   "outputs": [],
   "source": [
    "# Converting list to set, and return it into list again (This method will remove duplicates)\n",
    "numbers = [1,2,2,2,3,3,3,4,5,6,7,8,9,9,9,9,9,9,10,1]\n",
    "print(numbers)\n",
    "numbers_set = set(numbers)\n",
    "print(numbers_set)\n",
    "numbers_list = list(numbers_set)\n",
    "print(numbers_list)\n",
    "\n",
    "# Shortcut\n",
    "print((list(set(numbers))))"
   ]
  },
  {
   "cell_type": "code",
   "execution_count": null,
   "id": "dfe27ecc",
   "metadata": {},
   "outputs": [],
   "source": [
    "# Defining a dictionary variable\n",
    "dict_variable = [{'Name': 'John Paul M. Curada', 'Age': 16, 'Goal': 'To be a data scientist'},\n",
    "                 {'Name': 'Sherwin Gabriel B. Rodenas', 'Age': 15, 'Goal': 'To be a software engineer'},\n",
    "                 {'Name': 'Romnel Jesuron B. Burnot', 'Age': 16, 'Goal': 'To be a pediatrician'}]\n",
    "\n",
    "\n",
    "def is_user_included(dict_variable, username):\n",
    "    \"\"\"Return TRUE if username is included in list, otherwise return NONE\"\"\"\n",
    "    for dict_list in dict_variable:\n",
    "        if not dict_list['Name'] == username:\n",
    "            pass\n",
    "        elif dict_list['Name'] == username:\n",
    "            return True\n",
    "    \n",
    "\n",
    "is_running = True\n",
    "\n",
    "while is_running:\n",
    "    username = input('Enter your username: ').title()\n",
    "    is_included = is_user_included(dict_variable, username)\n",
    "    if username == 'Stop':\n",
    "        is_running = False\n",
    "    elif is_included:\n",
    "        print('You may now access your account.')\n",
    "    else:\n",
    "        print(\"You don't have an account.\")\n",
    "\n"
   ]
  },
  {
   "cell_type": "markdown",
   "id": "6dcb99c2",
   "metadata": {},
   "source": [
    "# 3. LIST "
   ]
  },
  {
   "cell_type": "code",
   "execution_count": null,
   "id": "ea1c535c",
   "metadata": {},
   "outputs": [],
   "source": [
    "# Create\n",
    "students_list = ['John Paul', 'Jeson', 'Jessa', 'Jenny', 'Mark', 'MJ', 'Marilyn', 'Jojo', 'Joy', 'Chie']"
   ]
  },
  {
   "cell_type": "code",
   "execution_count": null,
   "id": "3f250174",
   "metadata": {},
   "outputs": [],
   "source": [
    "# Read\n",
    "students_list[0] # Index counting starts at 0\n",
    "students_list[-1] # Reverse index counting starts at -1\n",
    "\n",
    "print(f\"{students_list[0]}, {students_list[-1]}, {students_list[1]}\")\n",
    "print(len(students_list))"
   ]
  },
  {
   "cell_type": "code",
   "execution_count": null,
   "id": "447fc6f7",
   "metadata": {},
   "outputs": [],
   "source": [
    "# Update\n",
    "students_list[0] = 'JP' # changing an element inside a list\n",
    "print(students_list)\n",
    "\n",
    "students_list.append('Rhon') # adding elements in list(placing a new element on last index)\n",
    "print(students_list)\n",
    "\n",
    "students_list.insert(0, 'Gabriel') # adding elements in list with specific index(placement)\n",
    "print(students_list)\n",
    "\n",
    "print(students_list.index('Jessa')) # getting the index of an element inside a list\n",
    "\n",
    "print(students_list.count('JP')) # counting elements duplicates inside a list \n",
    "\n",
    "extend_students_list = ['Benedicto','JM','Nica','Alfredo','Baetrix']\n",
    "students_list.extend(extend_students_list)\n",
    "print(students_list)\n",
    "# adding a list in a list, the placement is on the last index"
   ]
  },
  {
   "cell_type": "code",
   "execution_count": null,
   "id": "85ca0fd2",
   "metadata": {},
   "outputs": [],
   "source": [
    "# Delete\n",
    "del students_list[0]\n",
    "print(students_list)"
   ]
  },
  {
   "cell_type": "markdown",
   "id": "77203826",
   "metadata": {},
   "source": [
    "# 4.Dictionaries\n"
   ]
  },
  {
   "cell_type": "code",
   "execution_count": null,
   "id": "ea0667f2",
   "metadata": {},
   "outputs": [],
   "source": [
    "# create\n",
    "students = {\n",
    "    'Name': 'John Paul M. Curada',\n",
    "    'Age': 16,\n",
    "    'Birthdate': 'October 02, 2004',\n",
    "    'Email': 'jpcurada167@gmail.com'\n",
    "}"
   ]
  },
  {
   "cell_type": "code",
   "execution_count": null,
   "id": "bdf63d9b",
   "metadata": {},
   "outputs": [],
   "source": [
    "# Read\n",
    "print(students['Name'])\n",
    "print(students.keys())\n",
    "print(students.values())\n",
    "print(students.items())\n"
   ]
  },
  {
   "cell_type": "code",
   "execution_count": null,
   "id": "13950f11",
   "metadata": {},
   "outputs": [],
   "source": [
    "# Update\n",
    "students['Email'] = 'jpcurada010@gmail.com' # changing a value of a key inside a dictionary (will automaticaloly read  if change or add)\n",
    "students['Dream'] = 'To contribute greatly in society by means of data and leadership.' # adding a key and a value inside a list\n",
    "print(students)"
   ]
  },
  {
   "cell_type": "code",
   "execution_count": null,
   "id": "a65cad92",
   "metadata": {},
   "outputs": [],
   "source": [
    "# Delete\n",
    "del students['Birthdate']\n",
    "print(students)"
   ]
  },
  {
   "cell_type": "markdown",
   "id": "b2ac2dbc",
   "metadata": {},
   "source": [
    "# 5.Conditions and Logic"
   ]
  },
  {
   "cell_type": "code",
   "execution_count": null,
   "id": "25e20cb1",
   "metadata": {},
   "outputs": [],
   "source": [
    "students_list = ['John Paul', 'Jeson', 'Jessa', 'Jenny', 'Mark', 'MJ', 'Marilyn', 'Jojo', 'Joy', 'Chie']\n",
    "if 'John Paul' in students_list:\n",
    "    print('Hello Jp!')\n",
    "elif not 'John Paul' in students_list:\n",
    "    print('John Paul is not here.')\n",
    "else:\n",
    "    print('Buzz off!')"
   ]
  },
  {
   "cell_type": "markdown",
   "id": "4cda4c45",
   "metadata": {},
   "source": [
    "# 6.Loops"
   ]
  },
  {
   "cell_type": "code",
   "execution_count": null,
   "id": "e12150e2",
   "metadata": {},
   "outputs": [],
   "source": [
    "# for loops\n",
    "\"\"\"A for loops allows us to iterate over a sequence like values in a list or a range. \n",
    "We'll use them all the time for repeating processes but praticularly for working with lists.\"\"\"\n",
    "students_list = ['John Paul', 'Jeson', 'Jessa', 'Jenny', 'Mark', 'MJ', 'Marilyn', 'Jojo', 'Joy', 'Chie']\n",
    "for student in students_list:\n",
    "    if student == 'John Paul':\n",
    "        print('Hi sir JP!')\n",
    "        continue # next value in a loop\n",
    "    elif student == 'Mark':\n",
    "        print('Hey Mark!')\n",
    "        break # stopping a loop if condition is met\n",
    "    else:\n",
    "        print(f'Good day {student}!')\n",
    "    # not part of conditions    \n",
    "    print('Please to have you here!\\n')"
   ]
  },
  {
   "cell_type": "code",
   "execution_count": null,
   "id": "d26cbf0b",
   "metadata": {},
   "outputs": [],
   "source": [
    "for idx in range(1,11):\n",
    "    print(idx)\n"
   ]
  },
  {
   "cell_type": "code",
   "execution_count": null,
   "id": "46a3805e",
   "metadata": {},
   "outputs": [],
   "source": [
    "# While loops\n",
    "shuttles = ['Shuttle Alpha', 'Shuttle Beta', 'Shuttle Charlie', 'Shuttle Delta', 'Shuttle Echo']\n",
    "launched_shuttles = 0\n",
    "total_shuttles = 5\n",
    "idx = 0\n",
    "\n",
    "while True:\n",
    "    print(f\"{shuttles[idx]} launched\")\n",
    "    idx += 1\n",
    "    launched_shuttles += 1\n",
    "    if launched_shuttles == total_shuttles:\n",
    "        print('All shuttles had been launched.')\n",
    "        break"
   ]
  },
  {
   "cell_type": "code",
   "execution_count": 2,
   "id": "7b3a621c",
   "metadata": {},
   "outputs": [],
   "source": [
    "# Looping with dictionaries\n",
    "astronaut = {\n",
    "    'Name':'Elon Musk',\n",
    "    'suit_size':'Medium',\n",
    "    'allergies':'Peanut'\n",
    "}"
   ]
  },
  {
   "cell_type": "code",
   "execution_count": null,
   "id": "a8f92a74",
   "metadata": {},
   "outputs": [],
   "source": [
    "# loop through keys in a dictionary\n",
    "for key in astronaut.keys():\n",
    "    if key == 'Name':\n",
    "        print(astronaut[key])\n",
    "    print(key)"
   ]
  },
  {
   "cell_type": "code",
   "execution_count": null,
   "id": "abaea5a7",
   "metadata": {},
   "outputs": [],
   "source": [
    "# loop through values in a dictionary\n",
    "for value in astronaut.values():\n",
    "    print(value)\n",
    "    "
   ]
  },
  {
   "cell_type": "code",
   "execution_count": 3,
   "id": "fd8ee7d3",
   "metadata": {},
   "outputs": [
    {
     "name": "stdout",
     "output_type": "stream",
     "text": [
      "dict_items([('Name', 'Elon Musk'), ('suit_size', 'Medium'), ('allergies', 'Peanut')])\n",
      "Name\n",
      "Elon Musk \n",
      "\n",
      "suit_size\n",
      "Medium \n",
      "\n",
      "allergies\n",
      "Peanut \n",
      "\n"
     ]
    }
   ],
   "source": [
    "# loop through keys and values at the same time\n",
    "print(astronaut.items())\n",
    "for key, value in astronaut.items():\n",
    "    print(key)\n",
    "    print(value, '\\n')\n",
    "    "
   ]
  },
  {
   "cell_type": "markdown",
   "id": "59e48ef4",
   "metadata": {},
   "source": [
    "# 7.List Comprehension\n"
   ]
  },
  {
   "cell_type": "code",
   "execution_count": null,
   "id": "c0d9b6b2",
   "metadata": {},
   "outputs": [],
   "source": [
    "names = ['JoHN PAul', 'FaITh', 'GaBRIel', 'JEson']\n",
    "new_list = [name.title() for name in names]"
   ]
  },
  {
   "cell_type": "code",
   "execution_count": null,
   "id": "16c2c17a",
   "metadata": {},
   "outputs": [],
   "source": [
    "new_list"
   ]
  },
  {
   "cell_type": "markdown",
   "id": "5dc453a7",
   "metadata": {},
   "source": [
    "# 8.Functions\n",
    "allows to do something repeatedly inside of a set or block\n",
    "Wrapping processes in functions makes our code modular and reduces repetition"
   ]
  },
  {
   "cell_type": "code",
   "execution_count": 1,
   "id": "06f3a49f",
   "metadata": {},
   "outputs": [],
   "source": [
    "# Defining a function in python\n",
    "def launchpad_welcome():\n",
    "    print('Hello!')"
   ]
  },
  {
   "cell_type": "code",
   "execution_count": 3,
   "id": "4b222eec",
   "metadata": {},
   "outputs": [
    {
     "name": "stdout",
     "output_type": "stream",
     "text": [
      "Hello!\n"
     ]
    }
   ],
   "source": [
    "launchpad_welcome()"
   ]
  },
  {
   "cell_type": "code",
   "execution_count": 4,
   "id": "b430acfd",
   "metadata": {
    "collapsed": true
   },
   "outputs": [
    {
     "name": "stdout",
     "output_type": "stream",
     "text": [
      "Hello!\n",
      "Hello!\n",
      "Hello!\n",
      "Hello!\n",
      "Hello!\n",
      "Hello!\n",
      "Hello!\n",
      "Hello!\n",
      "Hello!\n",
      "Hello!\n"
     ]
    }
   ],
   "source": [
    "for idx in range(10):\n",
    "    launchpad_welcome()"
   ]
  },
  {
   "cell_type": "code",
   "execution_count": 12,
   "id": "e3f55851",
   "metadata": {},
   "outputs": [],
   "source": [
    "students_list = ['John Paul', 'Jeson', 'Jessa', 'Jenny', 'Mark', 'MJ', 'Marilyn', 'Jojo', 'Joy', 'Chie']\n"
   ]
  },
  {
   "cell_type": "code",
   "execution_count": 19,
   "id": "810148cf",
   "metadata": {},
   "outputs": [],
   "source": [
    "# Single positional argument\n",
    "def custom_welcome(name):\n",
    "    print(f\"Welcome {name}\") # F string or format string\n"
   ]
  },
  {
   "cell_type": "code",
   "execution_count": null,
   "id": "b18f8f05",
   "metadata": {},
   "outputs": [],
   "source": [
    "for name in students_list:\n",
    "    custom_welcome(name)"
   ]
  },
  {
   "cell_type": "code",
   "execution_count": null,
   "id": "22cc4415",
   "metadata": {},
   "outputs": [],
   "source": []
  },
  {
   "cell_type": "code",
   "execution_count": null,
   "id": "dcef33fc",
   "metadata": {},
   "outputs": [],
   "source": [
    "# Multiple positional argument"
   ]
  },
  {
   "cell_type": "code",
   "execution_count": 14,
   "id": "95568085",
   "metadata": {},
   "outputs": [
    {
     "name": "stdout",
     "output_type": "stream",
     "text": [
      "1 John Paul\n",
      "2 Jeson\n",
      "3 Jessa\n",
      "4 Jenny\n",
      "5 Mark\n",
      "6 MJ\n",
      "7 Marilyn\n",
      "8 Jojo\n",
      "9 Joy\n",
      "10 Chie\n"
     ]
    }
   ],
   "source": [
    "for idx, name in enumerate(students_list):\n",
    "    ship = \n",
    "    custom_welcome_to_ship(name, )"
   ]
  },
  {
   "cell_type": "code",
   "execution_count": null,
   "id": "bbff74d6",
   "metadata": {},
   "outputs": [],
   "source": []
  },
  {
   "cell_type": "code",
   "execution_count": null,
   "id": "9d0bed6e",
   "metadata": {},
   "outputs": [],
   "source": []
  }
 ],
 "metadata": {
  "kernelspec": {
   "display_name": "Python 3",
   "language": "python",
   "name": "python3"
  },
  "language_info": {
   "codemirror_mode": {
    "name": "ipython",
    "version": 3
   },
   "file_extension": ".py",
   "mimetype": "text/x-python",
   "name": "python",
   "nbconvert_exporter": "python",
   "pygments_lexer": "ipython3",
   "version": "3.8.10"
  }
 },
 "nbformat": 4,
 "nbformat_minor": 5
}
