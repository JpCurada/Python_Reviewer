{
 "cells": [
  {
   "cell_type": "markdown",
   "id": "87e76c97",
   "metadata": {},
   "source": [
    "# 1. Data Types"
   ]
  },
  {
   "cell_type": "code",
   "execution_count": 7,
   "id": "7345f81a",
   "metadata": {},
   "outputs": [
    {
     "name": "stdout",
     "output_type": "stream",
     "text": [
      "Jeypii Learns\n"
     ]
    },
    {
     "data": {
      "text/plain": [
       "str"
      ]
     },
     "execution_count": 7,
     "metadata": {},
     "output_type": "execute_result"
    }
   ],
   "source": [
    "# This is declaring a variable as a STRING \n",
    "string_variable = 'Jeypii Learns'\n",
    "print(string_variable)\n",
    "type(string_variable)"
   ]
  },
  {
   "cell_type": "code",
   "execution_count": 6,
   "id": "10d18e18",
   "metadata": {
    "scrolled": true
   },
   "outputs": [
    {
     "name": "stdout",
     "output_type": "stream",
     "text": [
      "122319\n"
     ]
    },
    {
     "data": {
      "text/plain": [
       "int"
      ]
     },
     "execution_count": 6,
     "metadata": {},
     "output_type": "execute_result"
    }
   ],
   "source": [
    "# This is declaring a variable as an Integer\n",
    "integer_variable = 122319\n",
    "print(integer_variable)\n",
    "type(integer_variable)"
   ]
  },
  {
   "cell_type": "code",
   "execution_count": 3,
   "id": "ae24e95b",
   "metadata": {},
   "outputs": [
    {
     "name": "stdout",
     "output_type": "stream",
     "text": [
      "128.126\n"
     ]
    },
    {
     "data": {
      "text/plain": [
       "float"
      ]
     },
     "execution_count": 3,
     "metadata": {},
     "output_type": "execute_result"
    }
   ],
   "source": [
    "# This is declaring a variable as a Float\n",
    "float_variable = 128.126\n",
    "print(float_variable)\n",
    "type(float_variable)"
   ]
  },
  {
   "cell_type": "code",
   "execution_count": 4,
   "id": "49d4d533",
   "metadata": {},
   "outputs": [
    {
     "name": "stdout",
     "output_type": "stream",
     "text": [
      "False\n"
     ]
    },
    {
     "data": {
      "text/plain": [
       "bool"
      ]
     },
     "execution_count": 4,
     "metadata": {},
     "output_type": "execute_result"
    }
   ],
   "source": [
    "# This is assigning a Boolean value to a variable\n",
    "bool_variable = False\n",
    "print(bool_variable)\n",
    "type(bool_variable)"
   ]
  },
  {
   "cell_type": "code",
   "execution_count": 5,
   "id": "7f798900",
   "metadata": {},
   "outputs": [
    {
     "name": "stdout",
     "output_type": "stream",
     "text": [
      "['Agoncillo', 'Euclid', 'Darwin', 'Quisumbing', 'Vesalius']\n"
     ]
    },
    {
     "data": {
      "text/plain": [
       "list"
      ]
     },
     "execution_count": 5,
     "metadata": {},
     "output_type": "execute_result"
    }
   ],
   "source": [
    "# This is creating a list variable\n",
    "list_variable = [\"Agoncillo\", \"Euclid\", \"Darwin\", \"Quisumbing\", \"Vesalius\"]\n",
    "print(list_variable)\n",
    "type(list_variable)"
   ]
  },
  {
   "cell_type": "code",
   "execution_count": 8,
   "id": "7a078001",
   "metadata": {},
   "outputs": [
    {
     "name": "stdout",
     "output_type": "stream",
     "text": [
      "(1, 2, 3, 123.44, 85.4, 22.1, 3)\n"
     ]
    },
    {
     "data": {
      "text/plain": [
       "tuple"
      ]
     },
     "execution_count": 8,
     "metadata": {},
     "output_type": "execute_result"
    }
   ],
   "source": [
    "# Create a TUPLE variable, IMMUTABLE = you can't change the values\n",
    "tuple_variable = (1, 2, 3, 123.44, 85.4, 22.1, 3)\n",
    "print(tuple_variable)\n",
    "type(tuple_variable)"
   ]
  },
  {
   "cell_type": "code",
   "execution_count": null,
   "id": "e89b2990",
   "metadata": {},
   "outputs": [],
   "source": [
    "# This is creating a SET variable, IMMUTABLE = you can't change the values, No DUPLICATES!\n",
    "set_variable = {1, 2, 3, 123.44, 85.4, 22.1, 3}\n",
    "type(set_variable)"
   ]
  },
  {
   "cell_type": "code",
   "execution_count": null,
   "id": "6f78003e",
   "metadata": {},
   "outputs": [],
   "source": []
  },
  {
   "cell_type": "code",
   "execution_count": null,
   "id": "f73dd309",
   "metadata": {},
   "outputs": [],
   "source": [
    "list_variable[5] = 123"
   ]
  },
  {
   "cell_type": "code",
   "execution_count": null,
   "id": "bf71c92b",
   "metadata": {},
   "outputs": [],
   "source": [
    "list_variable"
   ]
  },
  {
   "cell_type": "code",
   "execution_count": null,
   "id": "5ddbca63",
   "metadata": {},
   "outputs": [],
   "source": [
    "# Create a TUPLE variable, IMMUTABLE = you can't change the values\n",
    "tuple_variable = (1, 2, 3, 123.44, 85.4, 22.1, 3)\n",
    "type(tuple_variable)"
   ]
  },
  {
   "cell_type": "code",
   "execution_count": null,
   "id": "01df31e9",
   "metadata": {},
   "outputs": [],
   "source": [
    "tuple_variable"
   ]
  },
  {
   "cell_type": "code",
   "execution_count": null,
   "id": "ff5ed7cd",
   "metadata": {},
   "outputs": [],
   "source": [
    "# This is creating a SET variable, IMMUTABLE = you can't change the values, No DUPLICATES!\n",
    "set_variable = {1, 2, 3, 123.44, 85.4, 22.1, 3}\n",
    "type(set_variable)"
   ]
  },
  {
   "cell_type": "code",
   "execution_count": null,
   "id": "01bd3f8a",
   "metadata": {},
   "outputs": [],
   "source": [
    "# Type casting list to set back to list to get rid of duplicates\n",
    "type(list(set(list_variable)))"
   ]
  },
  {
   "cell_type": "code",
   "execution_count": null,
   "id": "da2e4ab4",
   "metadata": {},
   "outputs": [],
   "source": [
    "# Defining a dictionary variable\n",
    "person_variable = {'name':\"Nicholas\", 'favourite_color':'red', 'favourite_number':20}\n",
    "type(dict_variable)"
   ]
  },
  {
   "cell_type": "code",
   "execution_count": null,
   "id": "363e5f01",
   "metadata": {},
   "outputs": [],
   "source": [
    "person_variable['favourite_number']"
   ]
  },
  {
   "cell_type": "code",
   "execution_count": null,
   "id": "548c98d5",
   "metadata": {},
   "outputs": [],
   "source": [
    "fit_models = {}"
   ]
  },
  {
   "cell_type": "code",
   "execution_count": null,
   "id": "e55614c1",
   "metadata": {},
   "outputs": [],
   "source": [
    "tuple(list_variable)"
   ]
  },
  {
   "cell_type": "markdown",
   "id": "d3eaba78",
   "metadata": {},
   "source": [
    "# 2. Lists"
   ]
  },
  {
   "cell_type": "code",
   "execution_count": null,
   "id": "eacd1bc8",
   "metadata": {},
   "outputs": [],
   "source": [
    "# Create\n",
    "names = ['neil armstrong', 'buzz aldrin', 'sally ride', 'yuri gagarin', 'elon musk']"
   ]
  },
  {
   "cell_type": "code",
   "execution_count": null,
   "id": "990cbe80",
   "metadata": {},
   "outputs": [],
   "source": [
    "# Read \n",
    "names"
   ]
  },
  {
   "cell_type": "code",
   "execution_count": null,
   "id": "d7ffff75",
   "metadata": {},
   "outputs": [],
   "source": [
    "# Reading using Indexing\n",
    "names[0]"
   ]
  },
  {
   "cell_type": "code",
   "execution_count": null,
   "id": "ec24ade1",
   "metadata": {},
   "outputs": [],
   "source": [
    "names[-1]"
   ]
  },
  {
   "cell_type": "code",
   "execution_count": null,
   "id": "30905297",
   "metadata": {},
   "outputs": [],
   "source": [
    "len(names)"
   ]
  },
  {
   "cell_type": "code",
   "execution_count": null,
   "id": "2a44a08e",
   "metadata": {},
   "outputs": [],
   "source": [
    "# Update"
   ]
  },
  {
   "cell_type": "code",
   "execution_count": null,
   "id": "21a2dfcd",
   "metadata": {},
   "outputs": [],
   "source": [
    "names[-1] = 'nicholas renotte'\n",
    "names"
   ]
  },
  {
   "cell_type": "code",
   "execution_count": null,
   "id": "8c4137cd",
   "metadata": {},
   "outputs": [],
   "source": [
    "names.append('elon musk')"
   ]
  },
  {
   "cell_type": "code",
   "execution_count": null,
   "id": "fb5df6aa",
   "metadata": {},
   "outputs": [],
   "source": [
    "names"
   ]
  },
  {
   "cell_type": "code",
   "execution_count": null,
   "id": "635c1816",
   "metadata": {},
   "outputs": [],
   "source": [
    "names.insert(0, 'richard branson')"
   ]
  },
  {
   "cell_type": "code",
   "execution_count": null,
   "id": "0ecee405",
   "metadata": {},
   "outputs": [],
   "source": [
    "names"
   ]
  },
  {
   "cell_type": "code",
   "execution_count": null,
   "id": "89f96183",
   "metadata": {},
   "outputs": [],
   "source": [
    "# Delete"
   ]
  },
  {
   "cell_type": "code",
   "execution_count": null,
   "id": "17b651fd",
   "metadata": {},
   "outputs": [],
   "source": [
    "del names[-2]"
   ]
  },
  {
   "cell_type": "code",
   "execution_count": null,
   "id": "03085d5f",
   "metadata": {},
   "outputs": [],
   "source": [
    "names"
   ]
  },
  {
   "cell_type": "markdown",
   "id": "bbec123a",
   "metadata": {},
   "source": [
    "# 3. Dictionaries"
   ]
  },
  {
   "cell_type": "code",
   "execution_count": null,
   "id": "25beb60b",
   "metadata": {},
   "outputs": [],
   "source": [
    "# Create\n",
    "astronaut = {\n",
    "    \"name\":\"elon musk\", \n",
    "    \"suit_size\":\"large\", \n",
    "    \"allergies\":\"peanuts\"\n",
    "}"
   ]
  },
  {
   "cell_type": "code",
   "execution_count": null,
   "id": "a2a1faed",
   "metadata": {},
   "outputs": [],
   "source": [
    "# Read"
   ]
  },
  {
   "cell_type": "code",
   "execution_count": null,
   "id": "9b82d423",
   "metadata": {},
   "outputs": [],
   "source": [
    "astronaut"
   ]
  },
  {
   "cell_type": "code",
   "execution_count": null,
   "id": "1d1391e5",
   "metadata": {},
   "outputs": [],
   "source": [
    "astronaut['suit_size']"
   ]
  },
  {
   "cell_type": "code",
   "execution_count": null,
   "id": "f45456b1",
   "metadata": {},
   "outputs": [],
   "source": [
    "astronaut.keys()"
   ]
  },
  {
   "cell_type": "code",
   "execution_count": null,
   "id": "4eb65e2d",
   "metadata": {},
   "outputs": [],
   "source": [
    "astronaut.values()"
   ]
  },
  {
   "cell_type": "code",
   "execution_count": null,
   "id": "687ea64a",
   "metadata": {},
   "outputs": [],
   "source": [
    "# Update"
   ]
  },
  {
   "cell_type": "code",
   "execution_count": null,
   "id": "601e49b6",
   "metadata": {},
   "outputs": [],
   "source": [
    "astronaut['allergies'] = 'mango'"
   ]
  },
  {
   "cell_type": "code",
   "execution_count": null,
   "id": "fb5ea46e",
   "metadata": {},
   "outputs": [],
   "source": [
    "astronaut"
   ]
  },
  {
   "cell_type": "code",
   "execution_count": null,
   "id": "be60a460",
   "metadata": {},
   "outputs": [],
   "source": [
    "astronaut['space_ship'] = 'Galactic 1'"
   ]
  },
  {
   "cell_type": "code",
   "execution_count": null,
   "id": "c28709f5",
   "metadata": {},
   "outputs": [],
   "source": [
    "astronaut"
   ]
  },
  {
   "cell_type": "code",
   "execution_count": null,
   "id": "dbc1cbf5",
   "metadata": {},
   "outputs": [],
   "source": [
    "# Delete"
   ]
  },
  {
   "cell_type": "code",
   "execution_count": null,
   "id": "1715fe69",
   "metadata": {},
   "outputs": [],
   "source": [
    "del astronaut['space_ship']"
   ]
  },
  {
   "cell_type": "code",
   "execution_count": null,
   "id": "396ec359",
   "metadata": {},
   "outputs": [],
   "source": [
    "astronaut"
   ]
  }
 ],
 "metadata": {
  "kernelspec": {
   "display_name": "Python 3",
   "language": "python",
   "name": "python3"
  },
  "language_info": {
   "codemirror_mode": {
    "name": "ipython",
    "version": 3
   },
   "file_extension": ".py",
   "mimetype": "text/x-python",
   "name": "python",
   "nbconvert_exporter": "python",
   "pygments_lexer": "ipython3",
   "version": "3.8.10"
  }
 },
 "nbformat": 4,
 "nbformat_minor": 5
}
